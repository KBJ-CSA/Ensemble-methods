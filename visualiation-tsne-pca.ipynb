{
 "cells": [
  {
   "cell_type": "code",
   "execution_count": 1,
   "id": "5897c3af",
   "metadata": {
    "scrolled": true
   },
   "outputs": [],
   "source": [
    "import pandas as pd\n",
    "import numpy as num\n",
    "\n",
    "from sklearn import tree\n",
    "from sklearn.tree import DecisionTreeClassifier\n",
    "from sklearn.model_selection import train_test_split\n",
    "from sklearn.linear_model import LogisticRegression\n",
    "\n",
    "import seaborn as sns\n",
    "import warnings\n",
    "from sklearn.decomposition import PCA\n",
    "from sklearn.feature_selection import RFE\n",
    "from sklearn.feature_selection import RFECV\n",
    "\n",
    "from sklearn.metrics import recall_score, precision_score, accuracy_score\n",
    "from sklearn.metrics import confusion_matrix,multilabel_confusion_matrix\n",
    "from sklearn.metrics import plot_confusion_matrix\n",
    "\n",
    "from itertools import cycle\n",
    "#import graphviz\n",
    "import matplotlib.pyplot as plt"
   ]
  },
  {
   "cell_type": "code",
   "execution_count": 2,
   "id": "d4321cea",
   "metadata": {},
   "outputs": [],
   "source": [
    "#fetch file from s3 bucket\n",
    "import boto3\n",
    "\n",
    "# When running on SageMaker, need execution role\n",
    "from sagemaker import get_execution_role\n",
    "role = get_execution_role()\n",
    "\n",
    "# Declare bucket name, remote file, and destination\n",
    "my_bucket = 'smarthome-ids'\n",
    "orig_file = 'IoT Intrusion Dataset 2020.csv'\n",
    "dest_file = 'df'\n",
    "\n",
    "# Connect to S3 bucket and download file\n",
    "s3 = boto3.resource('s3')\n",
    "s3.Bucket(my_bucket).download_file(orig_file, dest_file)"
   ]
  },
  {
   "cell_type": "code",
   "execution_count": 3,
   "id": "22b9841a",
   "metadata": {},
   "outputs": [
    {
     "data": {
      "text/plain": [
       "Text(0.5, 0, 'category')"
      ]
     },
     "execution_count": 3,
     "metadata": {},
     "output_type": "execute_result"
    },
    {
     "data": {
      "image/png": "[encoded data removed]",
      "text/plain": [
       "<Figure size 432x288 with 1 Axes>"
      ]
     },
     "metadata": {},
     "output_type": "display_data"
    }
   ],
   "source": [
    "\n",
    "df = pd.read_csv(dest_file, delimiter=',')\n",
    "#pd.options.display.float_format = '{:.0f}'.format\n",
    "\n",
    "#df.columns = [\"Src_IP\", \"Dst_IP\", \"Protocol\", \"Cat\", \"Idle_Mean\",\"Flow_Pkts\" \"Sub_Cat\", \"Label\"]\n",
    "\n",
    "classes = pd.value_counts(df[\"Sub_Cat\"], sort = True)\n",
    "classes.plot(kind = 'pie', rot=0,autopct=\"%0.2f\")\n",
    "plt.title(\"Attack category distribution\")\n",
    "\n",
    "plt.xlabel(\"category\")"
   ]
  },
  {
   "cell_type": "code",
   "execution_count": 4,
   "id": "68c20271",
   "metadata": {},
   "outputs": [
    {
     "name": "stdout",
     "output_type": "stream",
     "text": [
      "Mirai-UDP Flooding       183554\n",
      "Mirai-Hostbruteforceg    121181\n",
      "DoS-Synflooding           59391\n",
      "Mirai-HTTP Flooding       55818\n",
      "Mirai-Ackflooding         55124\n",
      "Scan Port OS              53073\n",
      "Normal                    40073\n",
      "MITM ARP Spoofing         35377\n",
      "Scan Hostport             22192\n",
      "Name: Sub_Cat, dtype: int64\n"
     ]
    }
   ],
   "source": [
    "print(classes)"
   ]
  },
  {
   "cell_type": "code",
   "execution_count": 4,
   "id": "abe5864a",
   "metadata": {},
   "outputs": [
    {
     "data": {
      "text/plain": [
       "['Anomaly', 'Normal']"
      ]
     },
     "execution_count": 4,
     "metadata": {},
     "output_type": "execute_result"
    }
   ],
   "source": [
    "cat=['Anomaly','Normal']\n",
    "df['Label'].replace('Normal',0,inplace=True)\n",
    "df['Label'].replace('Anomaly',1,inplace=True)\n",
    "cat"
   ]
  },
  {
   "cell_type": "code",
   "execution_count": 5,
   "id": "299ef8c9",
   "metadata": {},
   "outputs": [],
   "source": [
    "#one-hot encoder for categorical values\n",
    "df_enc=pd.get_dummies(df,columns=['Sub_Cat'])"
   ]
  },
  {
   "cell_type": "code",
   "execution_count": 6,
   "id": "33584a78",
   "metadata": {},
   "outputs": [],
   "source": [
    "#target variables\n",
    "y=df_enc.iloc[:,[85,86,87,88,89,90,91,92,93]]"
   ]
  },
  {
   "cell_type": "code",
   "execution_count": 7,
   "id": "59747bbc",
   "metadata": {},
   "outputs": [
    {
     "data": {
      "text/plain": [
       "array(['Mirai-Ackflooding', 'DoS-Synflooding', 'Scan Port OS',\n",
       "       'Mirai-Hostbruteforceg', 'Mirai-UDP Flooding',\n",
       "       'Mirai-HTTP Flooding', 'Normal', 'Scan Hostport',\n",
       "       'MITM ARP Spoofing'], dtype=object)"
      ]
     },
     "execution_count": 7,
     "metadata": {},
     "output_type": "execute_result"
    }
   ],
   "source": [
    "#feature names\n",
    "class_labels=df['Sub_Cat'].unique()\n",
    "class_labels"
   ]
  },
  {
   "cell_type": "code",
   "execution_count": 8,
   "id": "93805f1e",
   "metadata": {},
   "outputs": [
    {
     "data": {
      "text/html": [
       "<div>\n",
       "<style scoped>\n",
       "    .dataframe tbody tr th:only-of-type {\n",
       "        vertical-align: middle;\n",
       "    }\n",
       "\n",
       "    .dataframe tbody tr th {\n",
       "        vertical-align: top;\n",
       "    }\n",
       "\n",
       "    .dataframe thead th {\n",
       "        text-align: right;\n",
       "    }\n",
       "</style>\n",
       "<table border=\"1\" class=\"dataframe\">\n",
       "  <thead>\n",
       "    <tr style=\"text-align: right;\">\n",
       "      <th></th>\n",
       "    </tr>\n",
       "  </thead>\n",
       "  <tbody>\n",
       "  </tbody>\n",
       "</table>\n",
       "</div>"
      ],
      "text/plain": [
       "Empty DataFrame\n",
       "Columns: []\n",
       "Index: []"
      ]
     },
     "execution_count": 8,
     "metadata": {},
     "output_type": "execute_result"
    }
   ],
   "source": [
    "#check for null values\n",
    "col_mask=df.isnull().any(axis=0) \n",
    "row_mask=df.isnull().any(axis=1)\n",
    "df.loc[row_mask,col_mask]"
   ]
  },
  {
   "cell_type": "code",
   "execution_count": 9,
   "id": "39342a11",
   "metadata": {
    "scrolled": true
   },
   "outputs": [
    {
     "data": {
      "text/plain": [
       "Flow_ID              False\n",
       "Src_IP               False\n",
       "Src_Port             False\n",
       "Dst_IP               False\n",
       "Dst_Port             False\n",
       "Protocol             False\n",
       "Timestamp            False\n",
       "Flow_Duration        False\n",
       "Tot_Fwd_Pkts         False\n",
       "Tot_Bwd_Pkts         False\n",
       "TotLen_Fwd_Pkts      False\n",
       "TotLen_Bwd_Pkts      False\n",
       "Fwd_Pkt_Len_Max      False\n",
       "Fwd_Pkt_Len_Min      False\n",
       "Fwd_Pkt_Len_Mean     False\n",
       "Fwd_Pkt_Len_Std      False\n",
       "Bwd_Pkt_Len_Max      False\n",
       "Bwd_Pkt_Len_Min      False\n",
       "Bwd_Pkt_Len_Mean     False\n",
       "Bwd_Pkt_Len_Std      False\n",
       "Flow_Byts/s           True\n",
       "Flow_Pkts/s           True\n",
       "Flow_IAT_Mean        False\n",
       "Flow_IAT_Std         False\n",
       "Flow_IAT_Max         False\n",
       "Flow_IAT_Min         False\n",
       "Fwd_IAT_Tot          False\n",
       "Fwd_IAT_Mean         False\n",
       "Bwd_IAT_Mean         False\n",
       "Fwd_IAT_Max          False\n",
       "Fwd_IAT_Min          False\n",
       "Bwd_IAT_Tot          False\n",
       "Bwd_IAT_Mean.1       False\n",
       "Bwd_IAT_Std          False\n",
       "Bwd_IAT_Max          False\n",
       "Bwd_IAT_Min          False\n",
       "Fwd_PSH_Flags        False\n",
       "Bwd_PSH_Flags        False\n",
       "Fwd_URG_Flags        False\n",
       "Bwd_URG_Flags        False\n",
       "Fwd_Header_Len       False\n",
       "Bwd_Header_Len       False\n",
       "Fwd_Pkts/s           False\n",
       "Bwd_Pkts/s           False\n",
       "Pkt_Len_Min          False\n",
       "Pkt_Len_Max          False\n",
       "Pkt_Len_Mean         False\n",
       "Pkt_Len_Std          False\n",
       "Pkt_Len_Var          False\n",
       "FIN_Flag_Cnt         False\n",
       "SYN_Flag_Cnt         False\n",
       "RST_Flag_Cnt         False\n",
       "PSH_Flag_Cnt         False\n",
       "ACK_Flag_Cnt         False\n",
       "URG_Flag_Cnt         False\n",
       "CWE_Flag_Count       False\n",
       "ECE_Flag_Cnt         False\n",
       "Down/Up_Ratio        False\n",
       "Pkt_Size_Avg         False\n",
       "Fwd_Seg_Size_Avg     False\n",
       "Bwd_Seg_Size_Avg     False\n",
       "Fwd_Byts/b_Avg       False\n",
       "Fwd_Pkts/b_Avg       False\n",
       "Fwd_Blk_Rate_Avg     False\n",
       "Bwd_Byts/b_Avg       False\n",
       "Bwd_Pkts/b_Avg       False\n",
       "Bwd_Blk_Rate_Avg     False\n",
       "Subflow_Fwd_Pkts     False\n",
       "Subflow_Fwd_Byts     False\n",
       "Subflow_Bwd_Pkts     False\n",
       "Subflow_Bwd_Byts     False\n",
       "Init_Fwd_Win_Byts    False\n",
       "Init_Bwd_Win_Byts    False\n",
       "Fwd_Act_Data_Pkts    False\n",
       "Fwd_Seg_Size_Min     False\n",
       "Active_Mean          False\n",
       "Active_Std           False\n",
       "Active_Max           False\n",
       "Active_Min           False\n",
       "Idle_Mean            False\n",
       "Idle_Std             False\n",
       "Idle_Max             False\n",
       "Idle_Min             False\n",
       "Label                False\n",
       "Cat                  False\n",
       "Sub_Cat              False\n",
       "dtype: bool"
      ]
     },
     "execution_count": 9,
     "metadata": {},
     "output_type": "execute_result"
    }
   ],
   "source": [
    "#check for infinity values\n",
    "#ds = df.isin([num.inf, -num.inf]).values.sum()\n",
    "#print(ds)\n",
    "col_name=df.isin([num.inf, -num.inf]).any()\n",
    "pd.set_option('display.max_rows',100)\n",
    "col_name"
   ]
  },
  {
   "cell_type": "code",
   "execution_count": 10,
   "id": "90826ac3",
   "metadata": {},
   "outputs": [],
   "source": [
    "#Replace infinity values\n",
    "df.replace([num.inf, -num.inf],num.nan).dropna(axis=1,inplace=True)"
   ]
  },
  {
   "cell_type": "code",
   "execution_count": 11,
   "id": "08f52d0f",
   "metadata": {},
   "outputs": [
    {
     "data": {
      "text/html": [
       "<div>\n",
       "<style scoped>\n",
       "    .dataframe tbody tr th:only-of-type {\n",
       "        vertical-align: middle;\n",
       "    }\n",
       "\n",
       "    .dataframe tbody tr th {\n",
       "        vertical-align: top;\n",
       "    }\n",
       "\n",
       "    .dataframe thead th {\n",
       "        text-align: right;\n",
       "    }\n",
       "</style>\n",
       "<table border=\"1\" class=\"dataframe\">\n",
       "  <thead>\n",
       "    <tr style=\"text-align: right;\">\n",
       "      <th></th>\n",
       "      <th>cat_names</th>\n",
       "    </tr>\n",
       "  </thead>\n",
       "  <tbody>\n",
       "    <tr>\n",
       "      <th>0</th>\n",
       "      <td>2</td>\n",
       "    </tr>\n",
       "    <tr>\n",
       "      <th>1</th>\n",
       "      <td>0</td>\n",
       "    </tr>\n",
       "    <tr>\n",
       "      <th>2</th>\n",
       "      <td>8</td>\n",
       "    </tr>\n",
       "    <tr>\n",
       "      <th>3</th>\n",
       "      <td>4</td>\n",
       "    </tr>\n",
       "    <tr>\n",
       "      <th>4</th>\n",
       "      <td>5</td>\n",
       "    </tr>\n",
       "    <tr>\n",
       "      <th>5</th>\n",
       "      <td>3</td>\n",
       "    </tr>\n",
       "    <tr>\n",
       "      <th>6</th>\n",
       "      <td>6</td>\n",
       "    </tr>\n",
       "    <tr>\n",
       "      <th>7</th>\n",
       "      <td>7</td>\n",
       "    </tr>\n",
       "    <tr>\n",
       "      <th>8</th>\n",
       "      <td>1</td>\n",
       "    </tr>\n",
       "  </tbody>\n",
       "</table>\n",
       "</div>"
      ],
      "text/plain": [
       "   cat_names\n",
       "0          2\n",
       "1          0\n",
       "2          8\n",
       "3          4\n",
       "4          5\n",
       "5          3\n",
       "6          6\n",
       "7          7\n",
       "8          1"
      ]
     },
     "execution_count": 11,
     "metadata": {},
     "output_type": "execute_result"
    }
   ],
   "source": [
    "#Label encoding\n",
    "from sklearn import preprocessing\n",
    "  \n",
    "# label_encoder object knows how to understand word labels.\n",
    "label_encoder = preprocessing.LabelEncoder()\n",
    "  \n",
    "# Encode labels in column 'species'.\n",
    "df['Sub_Cat']= label_encoder.fit_transform(df['Sub_Cat'])\n",
    "  \n",
    "\n",
    "sub_cat=pd.DataFrame()\n",
    "sub_cat['cat_names']=df['Sub_Cat'].unique()\n",
    "sub_cat"
   ]
  },
  {
   "cell_type": "code",
   "execution_count": 23,
   "id": "26ed094f",
   "metadata": {},
   "outputs": [
    {
     "data": {
      "text/plain": [
       "(9, 1)"
      ]
     },
     "execution_count": 23,
     "metadata": {},
     "output_type": "execute_result"
    }
   ],
   "source": [
    "sub_cat.shape"
   ]
  },
  {
   "cell_type": "code",
   "execution_count": 12,
   "id": "92f4ebcc",
   "metadata": {},
   "outputs": [],
   "source": [
    "#y=df['Sub_Cat']\n",
    "dff = pd.DataFrame()\n",
    "dff[\"y\"] = df['Sub_Cat']\n",
    "X=df.drop(['Label','Src_IP', 'Sub_Cat', 'Timestamp', 'Flow_ID', 'Cat', 'Dst_IP','Src_Port','Dst_Port','Protocol','Flow_Byts/s','Flow_Pkts/s'],axis=1)"
   ]
  },
  {
   "cell_type": "code",
   "execution_count": 13,
   "id": "aeffbb15",
   "metadata": {},
   "outputs": [],
   "source": [
    "from sklearn.model_selection import train_test_split\n",
    "\n",
    "\n",
    "# Choose your test size to split between training and testing sets:\n",
    "x_train, x_test, y_train, y_test = train_test_split(X, y, test_size=0.25, random_state=42)\n"
   ]
  },
  {
   "cell_type": "code",
   "execution_count": 14,
   "id": "b1297ae6",
   "metadata": {},
   "outputs": [
    {
     "data": {
      "text/html": [
       "<div>\n",
       "<style scoped>\n",
       "    .dataframe tbody tr th:only-of-type {\n",
       "        vertical-align: middle;\n",
       "    }\n",
       "\n",
       "    .dataframe tbody tr th {\n",
       "        vertical-align: top;\n",
       "    }\n",
       "\n",
       "    .dataframe thead th {\n",
       "        text-align: right;\n",
       "    }\n",
       "</style>\n",
       "<table border=\"1\" class=\"dataframe\">\n",
       "  <thead>\n",
       "    <tr style=\"text-align: right;\">\n",
       "      <th></th>\n",
       "      <th>Flow_Duration</th>\n",
       "      <th>Tot_Fwd_Pkts</th>\n",
       "      <th>Tot_Bwd_Pkts</th>\n",
       "      <th>TotLen_Fwd_Pkts</th>\n",
       "      <th>TotLen_Bwd_Pkts</th>\n",
       "      <th>Fwd_Pkt_Len_Max</th>\n",
       "      <th>Fwd_Pkt_Len_Min</th>\n",
       "      <th>Fwd_Pkt_Len_Mean</th>\n",
       "      <th>Fwd_Pkt_Len_Std</th>\n",
       "      <th>Bwd_Pkt_Len_Max</th>\n",
       "      <th>...</th>\n",
       "      <th>Fwd_Act_Data_Pkts</th>\n",
       "      <th>Fwd_Seg_Size_Min</th>\n",
       "      <th>Active_Mean</th>\n",
       "      <th>Active_Std</th>\n",
       "      <th>Active_Max</th>\n",
       "      <th>Active_Min</th>\n",
       "      <th>Idle_Mean</th>\n",
       "      <th>Idle_Std</th>\n",
       "      <th>Idle_Max</th>\n",
       "      <th>Idle_Min</th>\n",
       "    </tr>\n",
       "  </thead>\n",
       "  <tbody>\n",
       "    <tr>\n",
       "      <th>15785</th>\n",
       "      <td>145</td>\n",
       "      <td>0</td>\n",
       "      <td>3</td>\n",
       "      <td>0.0</td>\n",
       "      <td>0.0</td>\n",
       "      <td>0.0</td>\n",
       "      <td>0.0</td>\n",
       "      <td>0.0</td>\n",
       "      <td>0.0</td>\n",
       "      <td>0.0</td>\n",
       "      <td>...</td>\n",
       "      <td>0</td>\n",
       "      <td>0</td>\n",
       "      <td>0.0</td>\n",
       "      <td>0.0</td>\n",
       "      <td>0.0</td>\n",
       "      <td>0.0</td>\n",
       "      <td>72.5</td>\n",
       "      <td>0.707107</td>\n",
       "      <td>73.0</td>\n",
       "      <td>72.0</td>\n",
       "    </tr>\n",
       "    <tr>\n",
       "      <th>31565</th>\n",
       "      <td>146</td>\n",
       "      <td>0</td>\n",
       "      <td>3</td>\n",
       "      <td>0.0</td>\n",
       "      <td>4164.0</td>\n",
       "      <td>0.0</td>\n",
       "      <td>0.0</td>\n",
       "      <td>0.0</td>\n",
       "      <td>0.0</td>\n",
       "      <td>1388.0</td>\n",
       "      <td>...</td>\n",
       "      <td>0</td>\n",
       "      <td>0</td>\n",
       "      <td>0.0</td>\n",
       "      <td>0.0</td>\n",
       "      <td>0.0</td>\n",
       "      <td>0.0</td>\n",
       "      <td>73.0</td>\n",
       "      <td>1.414214</td>\n",
       "      <td>74.0</td>\n",
       "      <td>72.0</td>\n",
       "    </tr>\n",
       "    <tr>\n",
       "      <th>126734</th>\n",
       "      <td>120</td>\n",
       "      <td>1</td>\n",
       "      <td>1</td>\n",
       "      <td>0.0</td>\n",
       "      <td>0.0</td>\n",
       "      <td>0.0</td>\n",
       "      <td>0.0</td>\n",
       "      <td>0.0</td>\n",
       "      <td>0.0</td>\n",
       "      <td>0.0</td>\n",
       "      <td>...</td>\n",
       "      <td>0</td>\n",
       "      <td>0</td>\n",
       "      <td>0.0</td>\n",
       "      <td>0.0</td>\n",
       "      <td>0.0</td>\n",
       "      <td>0.0</td>\n",
       "      <td>120.0</td>\n",
       "      <td>0.000000</td>\n",
       "      <td>120.0</td>\n",
       "      <td>120.0</td>\n",
       "    </tr>\n",
       "    <tr>\n",
       "      <th>352442</th>\n",
       "      <td>152</td>\n",
       "      <td>0</td>\n",
       "      <td>3</td>\n",
       "      <td>0.0</td>\n",
       "      <td>0.0</td>\n",
       "      <td>0.0</td>\n",
       "      <td>0.0</td>\n",
       "      <td>0.0</td>\n",
       "      <td>0.0</td>\n",
       "      <td>0.0</td>\n",
       "      <td>...</td>\n",
       "      <td>0</td>\n",
       "      <td>0</td>\n",
       "      <td>0.0</td>\n",
       "      <td>0.0</td>\n",
       "      <td>0.0</td>\n",
       "      <td>0.0</td>\n",
       "      <td>76.0</td>\n",
       "      <td>2.828427</td>\n",
       "      <td>78.0</td>\n",
       "      <td>74.0</td>\n",
       "    </tr>\n",
       "    <tr>\n",
       "      <th>148094</th>\n",
       "      <td>74</td>\n",
       "      <td>1</td>\n",
       "      <td>1</td>\n",
       "      <td>0.0</td>\n",
       "      <td>0.0</td>\n",
       "      <td>0.0</td>\n",
       "      <td>0.0</td>\n",
       "      <td>0.0</td>\n",
       "      <td>0.0</td>\n",
       "      <td>0.0</td>\n",
       "      <td>...</td>\n",
       "      <td>0</td>\n",
       "      <td>0</td>\n",
       "      <td>0.0</td>\n",
       "      <td>0.0</td>\n",
       "      <td>0.0</td>\n",
       "      <td>0.0</td>\n",
       "      <td>74.0</td>\n",
       "      <td>0.000000</td>\n",
       "      <td>74.0</td>\n",
       "      <td>74.0</td>\n",
       "    </tr>\n",
       "  </tbody>\n",
       "</table>\n",
       "<p>5 rows × 74 columns</p>\n",
       "</div>"
      ],
      "text/plain": [
       "        Flow_Duration  Tot_Fwd_Pkts  Tot_Bwd_Pkts  TotLen_Fwd_Pkts  \\\n",
       "15785             145             0             3              0.0   \n",
       "31565             146             0             3              0.0   \n",
       "126734            120             1             1              0.0   \n",
       "352442            152             0             3              0.0   \n",
       "148094             74             1             1              0.0   \n",
       "\n",
       "        TotLen_Bwd_Pkts  Fwd_Pkt_Len_Max  Fwd_Pkt_Len_Min  Fwd_Pkt_Len_Mean  \\\n",
       "15785               0.0              0.0              0.0               0.0   \n",
       "31565            4164.0              0.0              0.0               0.0   \n",
       "126734              0.0              0.0              0.0               0.0   \n",
       "352442              0.0              0.0              0.0               0.0   \n",
       "148094              0.0              0.0              0.0               0.0   \n",
       "\n",
       "        Fwd_Pkt_Len_Std  Bwd_Pkt_Len_Max  ...  Fwd_Act_Data_Pkts  \\\n",
       "15785               0.0              0.0  ...                  0   \n",
       "31565               0.0           1388.0  ...                  0   \n",
       "126734              0.0              0.0  ...                  0   \n",
       "352442              0.0              0.0  ...                  0   \n",
       "148094              0.0              0.0  ...                  0   \n",
       "\n",
       "        Fwd_Seg_Size_Min  Active_Mean  Active_Std  Active_Max  Active_Min  \\\n",
       "15785                  0          0.0         0.0         0.0         0.0   \n",
       "31565                  0          0.0         0.0         0.0         0.0   \n",
       "126734                 0          0.0         0.0         0.0         0.0   \n",
       "352442                 0          0.0         0.0         0.0         0.0   \n",
       "148094                 0          0.0         0.0         0.0         0.0   \n",
       "\n",
       "        Idle_Mean  Idle_Std  Idle_Max  Idle_Min  \n",
       "15785        72.5  0.707107      73.0      72.0  \n",
       "31565        73.0  1.414214      74.0      72.0  \n",
       "126734      120.0  0.000000     120.0     120.0  \n",
       "352442       76.0  2.828427      78.0      74.0  \n",
       "148094       74.0  0.000000      74.0      74.0  \n",
       "\n",
       "[5 rows x 74 columns]"
      ]
     },
     "execution_count": 14,
     "metadata": {},
     "output_type": "execute_result"
    }
   ],
   "source": [
    "x_train.head()\n"
   ]
  },
  {
   "cell_type": "code",
   "execution_count": 14,
   "id": "8fa763e2",
   "metadata": {},
   "outputs": [
    {
     "data": {
      "text/html": [
       "<div>\n",
       "<style scoped>\n",
       "    .dataframe tbody tr th:only-of-type {\n",
       "        vertical-align: middle;\n",
       "    }\n",
       "\n",
       "    .dataframe tbody tr th {\n",
       "        vertical-align: top;\n",
       "    }\n",
       "\n",
       "    .dataframe thead th {\n",
       "        text-align: right;\n",
       "    }\n",
       "</style>\n",
       "<table border=\"1\" class=\"dataframe\">\n",
       "  <thead>\n",
       "    <tr style=\"text-align: right;\">\n",
       "      <th></th>\n",
       "      <th>Sub_Cat_DoS-Synflooding</th>\n",
       "      <th>Sub_Cat_MITM ARP Spoofing</th>\n",
       "      <th>Sub_Cat_Mirai-Ackflooding</th>\n",
       "      <th>Sub_Cat_Mirai-HTTP Flooding</th>\n",
       "      <th>Sub_Cat_Mirai-Hostbruteforceg</th>\n",
       "      <th>Sub_Cat_Mirai-UDP Flooding</th>\n",
       "      <th>Sub_Cat_Normal</th>\n",
       "      <th>Sub_Cat_Scan Hostport</th>\n",
       "      <th>Sub_Cat_Scan Port OS</th>\n",
       "    </tr>\n",
       "  </thead>\n",
       "  <tbody>\n",
       "    <tr>\n",
       "      <th>15785</th>\n",
       "      <td>0</td>\n",
       "      <td>1</td>\n",
       "      <td>0</td>\n",
       "      <td>0</td>\n",
       "      <td>0</td>\n",
       "      <td>0</td>\n",
       "      <td>0</td>\n",
       "      <td>0</td>\n",
       "      <td>0</td>\n",
       "    </tr>\n",
       "    <tr>\n",
       "      <th>31565</th>\n",
       "      <td>0</td>\n",
       "      <td>1</td>\n",
       "      <td>0</td>\n",
       "      <td>0</td>\n",
       "      <td>0</td>\n",
       "      <td>0</td>\n",
       "      <td>0</td>\n",
       "      <td>0</td>\n",
       "      <td>0</td>\n",
       "    </tr>\n",
       "    <tr>\n",
       "      <th>126734</th>\n",
       "      <td>0</td>\n",
       "      <td>0</td>\n",
       "      <td>0</td>\n",
       "      <td>0</td>\n",
       "      <td>0</td>\n",
       "      <td>0</td>\n",
       "      <td>0</td>\n",
       "      <td>1</td>\n",
       "      <td>0</td>\n",
       "    </tr>\n",
       "    <tr>\n",
       "      <th>352442</th>\n",
       "      <td>0</td>\n",
       "      <td>0</td>\n",
       "      <td>0</td>\n",
       "      <td>0</td>\n",
       "      <td>1</td>\n",
       "      <td>0</td>\n",
       "      <td>0</td>\n",
       "      <td>0</td>\n",
       "      <td>0</td>\n",
       "    </tr>\n",
       "    <tr>\n",
       "      <th>148094</th>\n",
       "      <td>0</td>\n",
       "      <td>1</td>\n",
       "      <td>0</td>\n",
       "      <td>0</td>\n",
       "      <td>0</td>\n",
       "      <td>0</td>\n",
       "      <td>0</td>\n",
       "      <td>0</td>\n",
       "      <td>0</td>\n",
       "    </tr>\n",
       "  </tbody>\n",
       "</table>\n",
       "</div>"
      ],
      "text/plain": [
       "        Sub_Cat_DoS-Synflooding  Sub_Cat_MITM ARP Spoofing  \\\n",
       "15785                         0                          1   \n",
       "31565                         0                          1   \n",
       "126734                        0                          0   \n",
       "352442                        0                          0   \n",
       "148094                        0                          1   \n",
       "\n",
       "        Sub_Cat_Mirai-Ackflooding  Sub_Cat_Mirai-HTTP Flooding  \\\n",
       "15785                           0                            0   \n",
       "31565                           0                            0   \n",
       "126734                          0                            0   \n",
       "352442                          0                            0   \n",
       "148094                          0                            0   \n",
       "\n",
       "        Sub_Cat_Mirai-Hostbruteforceg  Sub_Cat_Mirai-UDP Flooding  \\\n",
       "15785                               0                           0   \n",
       "31565                               0                           0   \n",
       "126734                              0                           0   \n",
       "352442                              1                           0   \n",
       "148094                              0                           0   \n",
       "\n",
       "        Sub_Cat_Normal  Sub_Cat_Scan Hostport  Sub_Cat_Scan Port OS  \n",
       "15785                0                      0                     0  \n",
       "31565                0                      0                     0  \n",
       "126734               0                      1                     0  \n",
       "352442               0                      0                     0  \n",
       "148094               0                      0                     0  "
      ]
     },
     "execution_count": 14,
     "metadata": {},
     "output_type": "execute_result"
    }
   ],
   "source": [
    "y_train.head()\n"
   ]
  },
  {
   "cell_type": "code",
   "execution_count": 16,
   "id": "3c31aafb",
   "metadata": {},
   "outputs": [
    {
     "data": {
      "text/plain": [
       "(469337, 74)"
      ]
     },
     "execution_count": 16,
     "metadata": {},
     "output_type": "execute_result"
    }
   ],
   "source": [
    "x_train.shape\n"
   ]
  },
  {
   "cell_type": "code",
   "execution_count": 15,
   "id": "c6842c1b",
   "metadata": {},
   "outputs": [
    {
     "data": {
      "text/plain": [
       "(469337, 9)"
      ]
     },
     "execution_count": 15,
     "metadata": {},
     "output_type": "execute_result"
    }
   ],
   "source": [
    "y_train.shape"
   ]
  },
  {
   "cell_type": "code",
   "execution_count": 14,
   "id": "a00e6604",
   "metadata": {},
   "outputs": [],
   "source": [
    "## Label encoding\n",
    "y_train = y_train.to_numpy(dtype=num.int64)\n",
    "y_test = y_test.to_numpy(dtype=num.int64)"
   ]
  },
  {
   "cell_type": "code",
   "execution_count": 15,
   "id": "fcc4fa42",
   "metadata": {},
   "outputs": [],
   "source": [
    "x_train = x_train[:3000]\n",
    "y_train = y_train[:3000]\n",
    "y_subcat=sub_cat[:3000]"
   ]
  },
  {
   "cell_type": "code",
   "execution_count": 17,
   "id": "5995a327",
   "metadata": {},
   "outputs": [],
   "source": [
    "from sklearn import manifold"
   ]
  },
  {
   "cell_type": "code",
   "execution_count": 20,
   "id": "abe47c6a",
   "metadata": {},
   "outputs": [
    {
     "name": "stdout",
     "output_type": "stream",
     "text": [
      "[t-SNE] Computing 91 nearest neighbors...\n",
      "[t-SNE] Indexed 3000 samples in 0.000s...\n",
      "[t-SNE] Computed neighbors for 3000 samples in 0.261s...\n",
      "[t-SNE] Computed conditional probabilities for sample 1000 / 3000\n",
      "[t-SNE] Computed conditional probabilities for sample 2000 / 3000\n",
      "[t-SNE] Computed conditional probabilities for sample 3000 / 3000\n",
      "[t-SNE] Mean sigma: 62.773540\n",
      "[t-SNE] KL divergence after 250 iterations with early exaggeration: 53.572922\n",
      "[t-SNE] KL divergence after 1000 iterations: 0.251469\n"
     ]
    },
    {
     "ename": "ValueError",
     "evalue": "Length of values (3000) does not match length of index (9)",
     "output_type": "error",
     "traceback": [
      "\u001b[0;31m---------------------------------------------------------------------------\u001b[0m",
      "\u001b[0;31mValueError\u001b[0m                                Traceback (most recent call last)",
      "\u001b[0;32m<ipython-input-20-b1e2e4a1fc8c>\u001b[0m in \u001b[0;36m<module>\u001b[0;34m\u001b[0m\n\u001b[1;32m      4\u001b[0m \u001b[0mdff\u001b[0m \u001b[0;34m=\u001b[0m \u001b[0mpd\u001b[0m\u001b[0;34m.\u001b[0m\u001b[0mDataFrame\u001b[0m\u001b[0;34m(\u001b[0m\u001b[0;34m)\u001b[0m\u001b[0;34m\u001b[0m\u001b[0;34m\u001b[0m\u001b[0m\n\u001b[1;32m      5\u001b[0m \u001b[0mdff\u001b[0m\u001b[0;34m[\u001b[0m\u001b[0;34m\"y\"\u001b[0m\u001b[0;34m]\u001b[0m \u001b[0;34m=\u001b[0m \u001b[0my_subcat\u001b[0m\u001b[0;34m[\u001b[0m\u001b[0;34m'cat_names'\u001b[0m\u001b[0;34m]\u001b[0m\u001b[0;34m\u001b[0m\u001b[0;34m\u001b[0m\u001b[0m\n\u001b[0;32m----> 6\u001b[0;31m \u001b[0mdff\u001b[0m\u001b[0;34m[\u001b[0m\u001b[0;34m\"comp-1\"\u001b[0m\u001b[0;34m]\u001b[0m \u001b[0;34m=\u001b[0m \u001b[0mz\u001b[0m\u001b[0;34m[\u001b[0m\u001b[0;34m:\u001b[0m\u001b[0;34m,\u001b[0m\u001b[0;36m0\u001b[0m\u001b[0;34m]\u001b[0m\u001b[0;34m\u001b[0m\u001b[0;34m\u001b[0m\u001b[0m\n\u001b[0m\u001b[1;32m      7\u001b[0m \u001b[0mdff\u001b[0m\u001b[0;34m[\u001b[0m\u001b[0;34m\"comp-2\"\u001b[0m\u001b[0;34m]\u001b[0m \u001b[0;34m=\u001b[0m \u001b[0mz\u001b[0m\u001b[0;34m[\u001b[0m\u001b[0;34m:\u001b[0m\u001b[0;34m,\u001b[0m\u001b[0;36m1\u001b[0m\u001b[0;34m]\u001b[0m\u001b[0;34m\u001b[0m\u001b[0;34m\u001b[0m\u001b[0m\n\u001b[1;32m      8\u001b[0m \u001b[0;34m\u001b[0m\u001b[0m\n",
      "\u001b[0;32m~/anaconda3/envs/python3/lib/python3.6/site-packages/pandas/core/frame.py\u001b[0m in \u001b[0;36m__setitem__\u001b[0;34m(self, key, value)\u001b[0m\n\u001b[1;32m   3042\u001b[0m         \u001b[0;32melse\u001b[0m\u001b[0;34m:\u001b[0m\u001b[0;34m\u001b[0m\u001b[0;34m\u001b[0m\u001b[0m\n\u001b[1;32m   3043\u001b[0m             \u001b[0;31m# set column\u001b[0m\u001b[0;34m\u001b[0m\u001b[0;34m\u001b[0m\u001b[0;34m\u001b[0m\u001b[0m\n\u001b[0;32m-> 3044\u001b[0;31m             \u001b[0mself\u001b[0m\u001b[0;34m.\u001b[0m\u001b[0m_set_item\u001b[0m\u001b[0;34m(\u001b[0m\u001b[0mkey\u001b[0m\u001b[0;34m,\u001b[0m \u001b[0mvalue\u001b[0m\u001b[0;34m)\u001b[0m\u001b[0;34m\u001b[0m\u001b[0;34m\u001b[0m\u001b[0m\n\u001b[0m\u001b[1;32m   3045\u001b[0m \u001b[0;34m\u001b[0m\u001b[0m\n\u001b[1;32m   3046\u001b[0m     \u001b[0;32mdef\u001b[0m \u001b[0m_setitem_slice\u001b[0m\u001b[0;34m(\u001b[0m\u001b[0mself\u001b[0m\u001b[0;34m,\u001b[0m \u001b[0mkey\u001b[0m\u001b[0;34m:\u001b[0m \u001b[0mslice\u001b[0m\u001b[0;34m,\u001b[0m \u001b[0mvalue\u001b[0m\u001b[0;34m)\u001b[0m\u001b[0;34m:\u001b[0m\u001b[0;34m\u001b[0m\u001b[0;34m\u001b[0m\u001b[0m\n",
      "\u001b[0;32m~/anaconda3/envs/python3/lib/python3.6/site-packages/pandas/core/frame.py\u001b[0m in \u001b[0;36m_set_item\u001b[0;34m(self, key, value)\u001b[0m\n\u001b[1;32m   3118\u001b[0m         \"\"\"\n\u001b[1;32m   3119\u001b[0m         \u001b[0mself\u001b[0m\u001b[0;34m.\u001b[0m\u001b[0m_ensure_valid_index\u001b[0m\u001b[0;34m(\u001b[0m\u001b[0mvalue\u001b[0m\u001b[0;34m)\u001b[0m\u001b[0;34m\u001b[0m\u001b[0;34m\u001b[0m\u001b[0m\n\u001b[0;32m-> 3120\u001b[0;31m         \u001b[0mvalue\u001b[0m \u001b[0;34m=\u001b[0m \u001b[0mself\u001b[0m\u001b[0;34m.\u001b[0m\u001b[0m_sanitize_column\u001b[0m\u001b[0;34m(\u001b[0m\u001b[0mkey\u001b[0m\u001b[0;34m,\u001b[0m \u001b[0mvalue\u001b[0m\u001b[0;34m)\u001b[0m\u001b[0;34m\u001b[0m\u001b[0;34m\u001b[0m\u001b[0m\n\u001b[0m\u001b[1;32m   3121\u001b[0m         \u001b[0mNDFrame\u001b[0m\u001b[0;34m.\u001b[0m\u001b[0m_set_item\u001b[0m\u001b[0;34m(\u001b[0m\u001b[0mself\u001b[0m\u001b[0;34m,\u001b[0m \u001b[0mkey\u001b[0m\u001b[0;34m,\u001b[0m \u001b[0mvalue\u001b[0m\u001b[0;34m)\u001b[0m\u001b[0;34m\u001b[0m\u001b[0;34m\u001b[0m\u001b[0m\n\u001b[1;32m   3122\u001b[0m \u001b[0;34m\u001b[0m\u001b[0m\n",
      "\u001b[0;32m~/anaconda3/envs/python3/lib/python3.6/site-packages/pandas/core/frame.py\u001b[0m in \u001b[0;36m_sanitize_column\u001b[0;34m(self, key, value, broadcast)\u001b[0m\n\u001b[1;32m   3766\u001b[0m \u001b[0;34m\u001b[0m\u001b[0m\n\u001b[1;32m   3767\u001b[0m             \u001b[0;31m# turn me into an ndarray\u001b[0m\u001b[0;34m\u001b[0m\u001b[0;34m\u001b[0m\u001b[0;34m\u001b[0m\u001b[0m\n\u001b[0;32m-> 3768\u001b[0;31m             \u001b[0mvalue\u001b[0m \u001b[0;34m=\u001b[0m \u001b[0msanitize_index\u001b[0m\u001b[0;34m(\u001b[0m\u001b[0mvalue\u001b[0m\u001b[0;34m,\u001b[0m \u001b[0mself\u001b[0m\u001b[0;34m.\u001b[0m\u001b[0mindex\u001b[0m\u001b[0;34m)\u001b[0m\u001b[0;34m\u001b[0m\u001b[0;34m\u001b[0m\u001b[0m\n\u001b[0m\u001b[1;32m   3769\u001b[0m             \u001b[0;32mif\u001b[0m \u001b[0;32mnot\u001b[0m \u001b[0misinstance\u001b[0m\u001b[0;34m(\u001b[0m\u001b[0mvalue\u001b[0m\u001b[0;34m,\u001b[0m \u001b[0;34m(\u001b[0m\u001b[0mnp\u001b[0m\u001b[0;34m.\u001b[0m\u001b[0mndarray\u001b[0m\u001b[0;34m,\u001b[0m \u001b[0mIndex\u001b[0m\u001b[0;34m)\u001b[0m\u001b[0;34m)\u001b[0m\u001b[0;34m:\u001b[0m\u001b[0;34m\u001b[0m\u001b[0;34m\u001b[0m\u001b[0m\n\u001b[1;32m   3770\u001b[0m                 \u001b[0;32mif\u001b[0m \u001b[0misinstance\u001b[0m\u001b[0;34m(\u001b[0m\u001b[0mvalue\u001b[0m\u001b[0;34m,\u001b[0m \u001b[0mlist\u001b[0m\u001b[0;34m)\u001b[0m \u001b[0;32mand\u001b[0m \u001b[0mlen\u001b[0m\u001b[0;34m(\u001b[0m\u001b[0mvalue\u001b[0m\u001b[0;34m)\u001b[0m \u001b[0;34m>\u001b[0m \u001b[0;36m0\u001b[0m\u001b[0;34m:\u001b[0m\u001b[0;34m\u001b[0m\u001b[0;34m\u001b[0m\u001b[0m\n",
      "\u001b[0;32m~/anaconda3/envs/python3/lib/python3.6/site-packages/pandas/core/internals/construction.py\u001b[0m in \u001b[0;36msanitize_index\u001b[0;34m(data, index)\u001b[0m\n\u001b[1;32m    746\u001b[0m     \u001b[0;32mif\u001b[0m \u001b[0mlen\u001b[0m\u001b[0;34m(\u001b[0m\u001b[0mdata\u001b[0m\u001b[0;34m)\u001b[0m \u001b[0;34m!=\u001b[0m \u001b[0mlen\u001b[0m\u001b[0;34m(\u001b[0m\u001b[0mindex\u001b[0m\u001b[0;34m)\u001b[0m\u001b[0;34m:\u001b[0m\u001b[0;34m\u001b[0m\u001b[0;34m\u001b[0m\u001b[0m\n\u001b[1;32m    747\u001b[0m         raise ValueError(\n\u001b[0;32m--> 748\u001b[0;31m             \u001b[0;34m\"Length of values \"\u001b[0m\u001b[0;34m\u001b[0m\u001b[0;34m\u001b[0m\u001b[0m\n\u001b[0m\u001b[1;32m    749\u001b[0m             \u001b[0;34mf\"({len(data)}) \"\u001b[0m\u001b[0;34m\u001b[0m\u001b[0;34m\u001b[0m\u001b[0m\n\u001b[1;32m    750\u001b[0m             \u001b[0;34m\"does not match length of index \"\u001b[0m\u001b[0;34m\u001b[0m\u001b[0;34m\u001b[0m\u001b[0m\n",
      "\u001b[0;31mValueError\u001b[0m: Length of values (3000) does not match length of index (9)"
     ]
    }
   ],
   "source": [
    "from sklearn.manifold import TSNE\n",
    "tsne = TSNE(n_components=2, verbose=1, random_state=123)\n",
    "z = tsne.fit_transform(x_train)\n",
    "dff=dff[:3000]\n",
    "dff[\"comp-1\"] = z[:,0]\n",
    "dff[\"comp-2\"] = z[:,1]\n",
    "\n",
    "\n",
    "sns.scatterplot(x=\"comp-1\", y=\"comp-2\", hue=dff.y.tolist(),\n",
    "                palette=sns.color_palette(\"hls\", 9),\n",
    "                data=dff).set(title=\"IoT data T-SNE projection\")"
   ]
  },
  {
   "cell_type": "code",
   "execution_count": 16,
   "id": "35c93c1d",
   "metadata": {},
   "outputs": [],
   "source": [
    "from sklearn.preprocessing import StandardScaler\n",
    "  \n",
    "std = StandardScaler()\n",
    "transformed = StandardScaler().fit_transform(x_train)"
   ]
  },
  {
   "cell_type": "code",
   "execution_count": 21,
   "id": "38ed493f",
   "metadata": {},
   "outputs": [
    {
     "name": "stdout",
     "output_type": "stream",
     "text": [
      "components: [[ 9.35859189e-05  4.86986048e-06 -6.31303877e-07 -1.76387877e-04\n",
      "  -1.42370372e-03 -1.52241683e-04  1.87657428e-04 -3.54431044e-06\n",
      "  -2.17250582e-04 -1.45473758e-03 -2.55020868e-04 -8.71427484e-04\n",
      "  -8.17353681e-04  3.65470696e-04 -2.54841130e-05  2.33706868e-04\n",
      "   3.69147815e-04 -2.56381858e-04 -7.50235133e-05 -1.01823310e-04\n",
      "  -2.18795141e-04 -1.33916917e-05  2.29940540e-04  3.98649710e-04\n",
      "  -7.46299766e-05  2.83905931e-04  4.47305965e-04  0.00000000e+00\n",
      "  -7.38873033e-08  0.00000000e+00  0.00000000e+00  3.02315634e-05\n",
      "  -4.03285499e-05  3.83158945e-01  1.35930201e-01  5.57204046e-04\n",
      "  -1.65414964e-03 -8.55939382e-04 -1.22674295e-03 -9.13616119e-01\n",
      "   4.63454630e-10  1.12667008e-07  4.44972438e-10 -7.38873033e-08\n",
      "  -8.14816022e-07  0.00000000e+00  4.63454630e-10  0.00000000e+00\n",
      "   1.08978795e-07 -1.22173793e-03 -3.54431044e-06 -8.71427484e-04\n",
      "   0.00000000e+00  0.00000000e+00  0.00000000e+00  0.00000000e+00\n",
      "   0.00000000e+00  0.00000000e+00  4.86986048e-06 -1.76387877e-04\n",
      "  -6.31303877e-07 -1.42370372e-03  0.00000000e+00  1.06814523e-03\n",
      "   4.65415817e-06  0.00000000e+00  1.22913308e-06 -1.26665236e-06\n",
      "   3.19077074e-07  2.14001890e-06  3.49557639e-04 -4.81562833e-05\n",
      "   2.29632202e-04  3.74873440e-04]\n",
      " [-1.34022703e-03  9.30458431e-06 -5.94351898e-07 -4.48182680e-04\n",
      "  -8.87099551e-04 -5.61941375e-04 -6.85956596e-04 -6.17043248e-04\n",
      "   7.97727265e-05 -3.74661658e-04 -8.99412091e-04 -6.30719269e-04\n",
      "   3.58989113e-04 -1.24525842e-03 -1.08941358e-04 -1.32094840e-03\n",
      "  -1.16953257e-03  3.02256347e-06 -2.54143775e-05 -3.28420632e-06\n",
      "  -1.10682447e-05 -2.10116128e-05 -1.26307463e-03 -1.24099505e-03\n",
      "  -8.16013703e-06 -1.24920763e-03 -1.23692948e-03 -0.00000000e+00\n",
      "  -2.87178322e-09 -0.00000000e+00 -0.00000000e+00  6.30422102e-05\n",
      "  -2.71597684e-05  8.58648805e-01  3.11946357e-01 -1.23901288e-03\n",
      "  -2.92078923e-04 -6.35457997e-04  5.28792298e-04  4.06505717e-01\n",
      "  -8.84792761e-10 -2.62395710e-07 -9.44101487e-10 -2.87178322e-09\n",
      "  -5.30699760e-07 -0.00000000e+00 -8.84792761e-10 -0.00000000e+00\n",
      "  -8.59600521e-08 -9.37216094e-04 -6.17043248e-04 -6.30719269e-04\n",
      "  -0.00000000e+00 -0.00000000e+00 -0.00000000e+00 -0.00000000e+00\n",
      "  -0.00000000e+00 -0.00000000e+00  9.30458431e-06 -4.48182680e-04\n",
      "  -5.94351898e-07 -8.87099551e-04 -0.00000000e+00 -1.17817049e-02\n",
      "   9.71736347e-06 -0.00000000e+00 -6.35079856e-06  3.77470976e-07\n",
      "  -6.01841640e-06 -6.65376667e-06 -1.25039646e-03 -9.01333410e-05\n",
      "  -1.31187796e-03 -1.18819560e-03]]\n",
      "mean:       [ 6.07239667e+02  1.56866667e+00  1.47600000e+00  5.74011333e+02\n",
      "  9.45496333e+02  3.95661667e+02  3.53085667e+02  3.77483867e+02\n",
      "  2.69555464e+01  6.94778000e+02  6.03238000e+02  6.50801978e+02\n",
      "  6.16916972e+01  4.75807921e+02  5.76059726e+01  5.47796667e+02\n",
      "  4.39384333e+02  8.25826667e+01  3.65718025e+01  2.94327607e+01\n",
      "  7.04493333e+01  1.75556667e+01  5.05486333e+02  4.50851463e+02\n",
      "  2.31793772e+01  4.84447333e+02  4.36287333e+02  0.00000000e+00\n",
      "  2.46666667e-02  0.00000000e+00  0.00000000e+00  2.19760000e+01\n",
      "  3.40666667e+01  4.62680990e+04  2.68929881e+04  5.21970667e+02\n",
      "  7.14076000e+02  6.45668062e+02  1.04634955e+02  7.09912645e+04\n",
      "  3.33333333e-04  8.76666667e-02  3.33333333e-04  2.46666667e-02\n",
      "  5.46666667e-01  0.00000000e+00  3.33333333e-04  0.00000000e+00\n",
      "  3.66666667e-01  9.32567156e+02  3.77483867e+02  6.50801978e+02\n",
      "  0.00000000e+00  0.00000000e+00  0.00000000e+00  0.00000000e+00\n",
      "  0.00000000e+00  0.00000000e+00  1.56866667e+00  5.74011333e+02\n",
      "  1.47600000e+00  9.45496333e+02 -1.00000000e+00  5.94783867e+03\n",
      "  1.39600000e+00  0.00000000e+00  3.09608302e+00  2.99487995e-01\n",
      "  3.32800000e+00  2.87366667e+00  4.82635374e+02  5.51139295e+01\n",
      "  5.44513667e+02  4.46703333e+02]\n",
      "covariance: [[ 5.03821144e+07 -3.03889309e+02  1.83952502e+01 ...  2.94065338e+03\n",
      "   4.57542481e+04  4.19702866e+04]\n",
      " [-3.03889309e+02  5.03358220e+07 -2.45885969e-01 ... -2.94301694e+01\n",
      "  -2.74665138e+02 -2.21206568e+02]\n",
      " [ 1.83952502e+01 -2.45885969e-01  5.03358190e+07 ...  2.40291860e+00\n",
      "   1.50509665e+01  1.00587930e+01]\n",
      " ...\n",
      " [ 2.94065338e+03 -2.94301694e+01  2.40291860e+00 ...  5.03361057e+07\n",
      "   2.65302833e+03  2.13033885e+03]\n",
      " [ 4.57542481e+04 -2.74665138e+02  1.50509665e+01 ...  2.65302833e+03\n",
      "   5.03816803e+07  4.28373226e+04]\n",
      " [ 4.19702866e+04 -2.21206568e+02  1.00587930e+01 ...  2.13033885e+03\n",
      "   4.28373226e+04  5.03767394e+07]]\n"
     ]
    },
    {
     "data": {
      "text/plain": [
       "[Text(0.5, 1.0, 'IoT data PCA projection')]"
      ]
     },
     "execution_count": 21,
     "metadata": {},
     "output_type": "execute_result"
    },
    {
     "data": {
      "image/png": "[encoded data removed]",
      "text/plain": [
       "<Figure size 432x288 with 1 Axes>"
      ]
     },
     "metadata": {
      "needs_background": "light"
     },
     "output_type": "display_data"
    }
   ],
   "source": [
    "pc = PCA(n_components = 2)\n",
    "pca = pc.fit_transform(x_train)\n",
    "\n",
    "#print(\"components:\", pc.components_)\n",
    "#print(\"mean:      \", pc.mean_)\n",
    "#print(\"covariance:\", pc.get_covariance())\n",
    "\n",
    "pdf = pd.DataFrame()\n",
    "pdf[\"y\"] = y_train\n",
    "pdf[\"comp-1\"] = pca[:,0]\n",
    "pdf[\"comp-2\"] = pca[:,1]\n",
    "\n",
    "\n",
    "sns.scatterplot(x=\"comp-1\", y=\"comp-2\", hue=pdf.y.tolist(),\n",
    "                palette=sns.color_palette(\"hls\", 9),\n",
    "                data=pdf).set(title=\"IoT data PCA projection\")\n",
    "\n"
   ]
  },
  {
   "cell_type": "code",
   "execution_count": 23,
   "id": "dd73a84a",
   "metadata": {},
   "outputs": [
    {
     "data": {
      "text/plain": [
       "(3000,)"
      ]
     },
     "execution_count": 23,
     "metadata": {},
     "output_type": "execute_result"
    }
   ],
   "source": [
    "y_train.shape"
   ]
  },
  {
   "cell_type": "code",
   "execution_count": 23,
   "id": "24386262",
   "metadata": {},
   "outputs": [
    {
     "data": {
      "text/plain": [
       "(3000, 74)"
      ]
     },
     "execution_count": 23,
     "metadata": {},
     "output_type": "execute_result"
    }
   ],
   "source": [
    "x_train.shape"
   ]
  },
  {
   "cell_type": "code",
   "execution_count": 24,
   "id": "1d454f34",
   "metadata": {},
   "outputs": [],
   "source": [
    "#decision tree classifier for comparison\n",
    "from sklearn.tree import DecisionTreeClassifier\n",
    "tree = DecisionTreeClassifier()\n",
    "tree.fit(x_train,y_train)\n",
    "y_pred_tree = tree.predict(x_test)\n"
   ]
  },
  {
   "cell_type": "code",
   "execution_count": 25,
   "id": "1f88be75",
   "metadata": {},
   "outputs": [
    {
     "name": "stdout",
     "output_type": "stream",
     "text": [
      "Collecting package metadata (current_repodata.json): done\n",
      "Solving environment: | \n",
      "The environment is inconsistent, please check the package plan carefully\n",
      "The following packages are causing the inconsistency:\n",
      "\n",
      "  - conda-forge/noarch::seaborn-base==0.11.1=pyhd8ed1ab_1\n",
      "  - conda-forge/noarch::nbclassic==0.2.6=pyhd8ed1ab_0\n",
      "  - conda-forge/linux-64::blaze==0.11.3=py36_0\n",
      "  - conda-forge/linux-64::matplotlib==3.3.4=py36h5fab9bb_0\n",
      "  - defaults/linux-64::_anaconda_depends==5.1.0=py36_2\n",
      "  - conda-forge/noarch::jupyterlab==3.0.9=pyhd8ed1ab_0\n",
      "  - conda-forge/noarch::python-language-server==0.36.2=pyhd8ed1ab_0\n",
      "  - conda-forge/noarch::jupyterlab_server==2.3.0=pyhd8ed1ab_0\n",
      "  - conda-forge/noarch::pyls-black==0.4.6=pyh9f0ad1d_0\n",
      "  - conda-forge/linux-64::scikit-image==0.16.2=py36hb3f55d8_0\n",
      "  - conda-forge/noarch::black==20.8b1=py_1\n",
      "  - conda-forge/linux-64::anyio==2.1.0=py36h5fab9bb_0\n",
      "  - conda-forge/linux-64::jupyter_server==1.4.1=py36h5fab9bb_0\n",
      "  - conda-forge/linux-64::bokeh==2.2.3=py36h5fab9bb_0\n",
      "  - conda-forge/noarch::aiobotocore==1.2.1=pyhd8ed1ab_0\n",
      "  - conda-forge/noarch::numpydoc==1.1.0=py_1\n",
      "  - conda-forge/linux-64::spyder==4.2.0=py36h5fab9bb_0\n",
      "  - conda-forge/noarch::pyls-spyder==0.3.2=pyhd8ed1ab_0\n",
      "  - conda-forge/noarch::odo==0.5.1=py_1\n",
      "  - conda-forge/noarch::imageio==2.9.0=py_0\n",
      "  - conda-forge/linux-64::yarl==1.6.3=py36h8f6f2f9_1\n",
      "  - conda-forge/noarch::sphinx==3.5.1=pyhd8ed1ab_0\n",
      "  - conda-forge/noarch::seaborn==0.11.1=hd8ed1ab_1\n",
      "  - conda-forge/linux-64::jupyter==1.0.0=py36h5fab9bb_6\n",
      "  - conda-forge/noarch::dask==2021.2.0=pyhd8ed1ab_0\n",
      "  - conda-forge/linux-64::idna_ssl==1.1.0=py36h9f0ad1d_1001\n",
      "  - conda-forge/linux-64::matplotlib-base==3.3.4=py36hd391965_0\n",
      "  - conda-forge/noarch::anaconda-client==1.7.2=py_0\n",
      "  - conda-forge/noarch::anaconda-project==0.9.1=pyhd8ed1ab_0\n",
      "done\n",
      "\n",
      "\n",
      "==> WARNING: A newer version of conda exists. <==\n",
      "  current version: 4.8.4\n",
      "  latest version: 4.10.1\n",
      "\n",
      "Please update conda by running\n",
      "\n",
      "    $ conda update -n base -c defaults conda\n",
      "\n",
      "\n",
      "\n",
      "## Package Plan ##\n",
      "\n",
      "  environment location: /home/ec2-user/anaconda3/envs/python3\n",
      "\n",
      "  added / updated specs:\n",
      "    - imbalanced-learn\n",
      "\n",
      "\n",
      "The following packages will be downloaded:\n",
      "\n",
      "    package                    |            build\n",
      "    ---------------------------|-----------------\n",
      "    aiobotocore-1.3.0          |     pyhd8ed1ab_0          40 KB  conda-forge\n",
      "    astroid-2.5.6              |   py36h5fab9bb_0         300 KB  conda-forge\n",
      "    botocore-1.20.49           |     pyhd8ed1ab_0         4.6 MB  conda-forge\n",
      "    dataclasses-0.8            |     pyh787bdff_0          22 KB  conda-forge\n",
      "    docutils-0.17.1            |   py36h5fab9bb_0         762 KB  conda-forge\n",
      "    flask-cors-3.0.8           |             py_0          14 KB  conda-forge\n",
      "    imbalanced-learn-0.8.0     |     pyhd8ed1ab_0         109 KB  conda-forge\n",
      "    jupyter_console-5.2.0      |           py36_1          34 KB  conda-forge\n",
      "    lxml-4.6.3                 |   py36h04a5ba7_0         1.5 MB  conda-forge\n",
      "    openjpeg-2.4.0             |       hb52868f_1         444 KB  conda-forge\n",
      "    pillow-8.2.0               |   py36ha6010c0_1         688 KB  conda-forge\n",
      "    pylint-2.7.2               |   py36h5fab9bb_0         466 KB  conda-forge\n",
      "    ------------------------------------------------------------\n",
      "                                           Total:         8.9 MB\n",
      "\n",
      "The following NEW packages will be INSTALLED:\n",
      "\n",
      "  aiohttp            conda-forge/linux-64::aiohttp-3.7.4-py36h8f6f2f9_0\n",
      "  astroid            conda-forge/linux-64::astroid-2.5.6-py36h5fab9bb_0\n",
      "  botocore           conda-forge/noarch::botocore-1.20.49-pyhd8ed1ab_0\n",
      "  colorama           conda-forge/noarch::colorama-0.4.4-pyh9f0ad1d_0\n",
      "  dataclasses        conda-forge/noarch::dataclasses-0.8-pyh787bdff_0\n",
      "  docutils           conda-forge/linux-64::docutils-0.17.1-py36h5fab9bb_0\n",
      "  flask-cors         conda-forge/noarch::flask-cors-3.0.8-py_0\n",
      "  idna               conda-forge/noarch::idna-2.10-pyh9f0ad1d_0\n",
      "  imbalanced-learn   conda-forge/noarch::imbalanced-learn-0.8.0-pyhd8ed1ab_0\n",
      "  jupyter_console    conda-forge/linux-64::jupyter_console-5.2.0-py36_1\n",
      "  lxml               conda-forge/linux-64::lxml-4.6.3-py36h04a5ba7_0\n",
      "  openjpeg           conda-forge/linux-64::openjpeg-2.4.0-hb52868f_1\n",
      "  pillow             conda-forge/linux-64::pillow-8.2.0-py36ha6010c0_1\n",
      "  pylint             conda-forge/linux-64::pylint-2.7.2-py36h5fab9bb_0\n",
      "  requests           conda-forge/noarch::requests-2.25.1-pyhd3deb0d_0\n",
      "  urllib3            conda-forge/noarch::urllib3-1.26.4-pyhd8ed1ab_0\n",
      "\n",
      "The following packages will be UPDATED:\n",
      "\n",
      "  aiobotocore                            1.2.1-pyhd8ed1ab_0 --> 1.3.0-pyhd8ed1ab_0\n",
      "\n",
      "\n",
      "\n",
      "Downloading and Extracting Packages\n",
      "docutils-0.17.1      | 762 KB    | ##################################### | 100% \n",
      "jupyter_console-5.2. | 34 KB     | ##################################### | 100% \n",
      "pillow-8.2.0         | 688 KB    | ##################################### | 100% \n",
      "botocore-1.20.49     | 4.6 MB    | ##################################### | 100% \n",
      "dataclasses-0.8      | 22 KB     | ##################################### | 100% \n",
      "pylint-2.7.2         | 466 KB    | ##################################### | 100% \n",
      "lxml-4.6.3           | 1.5 MB    | ##################################### | 100% \n",
      "astroid-2.5.6        | 300 KB    | ##################################### | 100% \n",
      "aiobotocore-1.3.0    | 40 KB     | ##################################### | 100% \n",
      "flask-cors-3.0.8     | 14 KB     | ##################################### | 100% \n",
      "imbalanced-learn-0.8 | 109 KB    | ##################################### | 100% \n",
      "openjpeg-2.4.0       | 444 KB    | ##################################### | 100% \n",
      "Preparing transaction: done\n",
      "Verifying transaction: done\n",
      "Executing transaction: done\n",
      "\n",
      "Note: you may need to restart the kernel to use updated packages.\n"
     ]
    }
   ],
   "source": [
    "%conda install -c conda-forge imbalanced-learn"
   ]
  },
  {
   "cell_type": "code",
   "execution_count": 26,
   "id": "6c32fa39",
   "metadata": {},
   "outputs": [
    {
     "name": "stdout",
     "output_type": "stream",
     "text": [
      "Decision tree classifier performance:\n",
      "Geometric mean 0.46\n",
      "                   pre       rec       spe        f1       geo       iba       sup\n",
      "\n",
      "          0       0.99      0.99      1.00      0.99      1.00      0.99     15107\n",
      "          1       0.40      0.42      0.96      0.41      0.64      0.39      8707\n",
      "          2       0.30      0.41      0.91      0.35      0.61      0.35     13656\n",
      "          3       0.31      0.27      0.94      0.29      0.51      0.24     13994\n",
      "          4       0.56      0.60      0.89      0.58      0.73      0.51     30268\n",
      "          5       0.82      0.77      0.93      0.79      0.85      0.70     45766\n",
      "          6       0.82      0.83      0.99      0.83      0.91      0.81      9937\n",
      "          7       0.17      0.18      0.97      0.17      0.42      0.16      5615\n",
      "          8       0.38      0.29      0.96      0.33      0.53      0.26     13396\n",
      "\n",
      "avg / total       0.61      0.60      0.94      0.61      0.74      0.55    156446\n",
      "\n",
      "balanced accuracy score: 0.5296322568283132\n"
     ]
    }
   ],
   "source": [
    "from sklearn.metrics import balanced_accuracy_score\n",
    "from imblearn.metrics import geometric_mean_score\n",
    "from imblearn.metrics import classification_report_imbalanced\n",
    "\n",
    "print(\"Decision tree classifier performance:\")\n",
    "print(\n",
    "    \n",
    "    f\"Geometric mean {geometric_mean_score(y_test, y_pred_tree):.2f}\"\n",
    ")\n",
    "\n",
    "print(classification_report_imbalanced(y_test, y_pred_tree))\n",
    "print(\"balanced accuracy score:\",balanced_accuracy_score(y_test,y_pred_tree))"
   ]
  },
  {
   "cell_type": "code",
   "execution_count": 18,
   "id": "77dbc3aa",
   "metadata": {},
   "outputs": [
    {
     "data": {
      "image/png": "[encoded data removed]",
      "text/plain": [
       "<Figure size 432x288 with 2 Axes>"
      ]
     },
     "metadata": {
      "needs_background": "light"
     },
     "output_type": "display_data"
    }
   ],
   "source": [
    "import seaborn as sns\n",
    "from sklearn.metrics import plot_confusion_matrix\n",
    "\n",
    "sns.set_context(\"poster\")\n",
    "\n",
    "disp = plot_confusion_matrix(tree, x_test, y_test, colorbar=True,cmap=plt.cm.Blues)\n",
    "_ = disp.ax_.set_title(\"Decision tree -IoT Intrusion\")"
   ]
  },
  {
   "cell_type": "code",
   "execution_count": 12,
   "id": "fd552554",
   "metadata": {},
   "outputs": [],
   "source": [
    "from sklearn.ensemble import BaggingClassifier\n",
    "from imblearn.ensemble import BalancedBaggingClassifier\n",
    "\n",
    "bagging = BaggingClassifier(n_estimators=50, random_state=0)\n",
    "balanced_bagging = BalancedBaggingClassifier(n_estimators=50, random_state=0)\n",
    "\n",
    "bagging.fit(x_train, y_train)\n",
    "balanced_bagging.fit(x_train, y_train)\n",
    "\n",
    "y_pred_bc = bagging.predict(x_test)\n",
    "y_pred_bbc = balanced_bagging.predict(x_test)"
   ]
  },
  {
   "cell_type": "code",
   "execution_count": 13,
   "id": "667f70c2",
   "metadata": {},
   "outputs": [
    {
     "name": "stdout",
     "output_type": "stream",
     "text": [
      "Bagging classifier performance:\n",
      "Balanced accuracy: 0.93 - Geometric mean 0.93\n",
      "Balanced Bagging classifier performance:\n",
      "Balanced accuracy: 0.97 - Geometric mean 0.97\n"
     ]
    }
   ],
   "source": [
    "print(\"Bagging classifier performance:\")\n",
    "print(\n",
    "    f\"Balanced accuracy: {balanced_accuracy_score(y_test, y_pred_bc):.2f} - \"\n",
    "    f\"Geometric mean {geometric_mean_score(y_test, y_pred_bc):.2f}\"\n",
    ")\n",
    "print(\"Balanced Bagging classifier performance:\")\n",
    "print(\n",
    "    f\"Balanced accuracy: {balanced_accuracy_score(y_test, y_pred_bbc):.2f} - \"\n",
    "    f\"Geometric mean {geometric_mean_score(y_test, y_pred_bbc):.2f}\"\n",
    ")"
   ]
  },
  {
   "cell_type": "code",
   "execution_count": 14,
   "id": "d3bd09f0",
   "metadata": {},
   "outputs": [
    {
     "data": {
      "image/png": "[encoded data removed]",
      "text/plain": [
       "<Figure size 720x360 with 2 Axes>"
      ]
     },
     "metadata": {
      "needs_background": "light"
     },
     "output_type": "display_data"
    }
   ],
   "source": [
    "import matplotlib.pyplot as plt\n",
    "\n",
    "fig, axs = plt.subplots(ncols=2, figsize=(10, 5))\n",
    "plot_confusion_matrix(bagging, x_test, y_test, ax=axs[0], colorbar=False)\n",
    "axs[0].set_title(\"Bagging\")\n",
    "\n",
    "plot_confusion_matrix(balanced_bagging, x_test, y_test, ax=axs[1], colorbar=False)\n",
    "axs[1].set_title(\"Balanced Bagging\")\n",
    "\n",
    "fig.tight_layout()"
   ]
  }
 ],
 "metadata": {
  "kernelspec": {
   "display_name": "conda_python3",
   "language": "python",
   "name": "conda_python3"
  },
  "language_info": {
   "codemirror_mode": {
    "name": "ipython",
    "version": 3
   },
   "file_extension": ".py",
   "mimetype": "text/x-python",
   "name": "python",
   "nbconvert_exporter": "python",
   "pygments_lexer": "ipython3",
   "version": "3.6.13"
  }
 },
 "nbformat": 4,
 "nbformat_minor": 5
}
